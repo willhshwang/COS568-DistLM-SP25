{
 "cells": [
  {
   "cell_type": "code",
   "execution_count": 13,
   "metadata": {},
   "outputs": [],
   "source": [
    "import os\n",
    "import sys\n",
    "import numpy as np\n",
    "import pandas as pd\n",
    "import matplotlib.pyplot as plt\n"
   ]
  },
  {
   "cell_type": "code",
   "execution_count": 14,
   "metadata": {},
   "outputs": [],
   "source": [
    "task1_outputs = \"/proj/cos568proj2-PG0/groups/hh2605/COS568-DistLM-SP25/outputs/RTE/task1/\"\n",
    "task2a_outputs = \"/proj/cos568proj2-PG0/groups/hh2605/COS568-DistLM-SP25/outputs/RTE/task2a/\"\n",
    "task2b_outputs = \"/proj/cos568proj2-PG0/groups/hh2605/COS568-DistLM-SP25/outputs/RTE/task2b/\"\n",
    "task3_outputs = \"/proj/cos568proj2-PG0/groups/hh2605/COS568-DistLM-SP25/outputs/RTE/task3/\""
   ]
  },
  {
   "cell_type": "code",
   "execution_count": 15,
   "metadata": {},
   "outputs": [],
   "source": [
    "nodes = ['node_0', 'node_1', 'node_2', 'node_3']\n",
    "\n",
    "def plot_task(task_outputs, task_name):\n",
    "    for node in nodes:\n",
    "        print(node)\n",
    "        node_path = os.path.join(task_outputs, node, \"train_results.txt\")\n",
    "        node_df = pd.read_csv(node_path)\n",
    "        plt.plot(node_df['step'], node_df['process_loss'])\n",
    "        plt.title(f\"{task_name} on {node}\")\n",
    "        plt.xlabel(\"Step\")\n",
    "        plt.ylabel(\"Process Loss\")\n",
    "        plt.savefig(os.path.join(task_outputs, node, f\"{task_name}_{node}_train_loss.png\"))\n",
    "        plt.close()\n",
    "        \n",
    "        avg_time = node_df.iloc[1:, :]['time'].mean()\n",
    "        print(\"avg time for task1 on node\", node, \"is\", avg_time)\n",
    "    \n",
    "    \n",
    "    "
   ]
  },
  {
   "cell_type": "code",
   "execution_count": 16,
   "metadata": {},
   "outputs": [
    {
     "name": "stdout",
     "output_type": "stream",
     "text": [
      "node_0\n",
      "avg time for task1 on node node_0 is 8.357898661964818\n",
      "node_1\n",
      "avg time for task1 on node node_1 is 8.357310106879787\n",
      "node_2\n",
      "avg time for task1 on node node_2 is 8.358201553947048\n",
      "node_3\n",
      "avg time for task1 on node node_3 is 8.358539788346542\n",
      "node_0\n",
      "avg time for task1 on node node_0 is 5.681880185478612\n",
      "node_1\n",
      "avg time for task1 on node node_1 is 5.682889248195448\n",
      "node_2\n",
      "avg time for task1 on node node_2 is 5.6813842811082536\n",
      "node_3\n",
      "avg time for task1 on node node_3 is 5.682494000384682\n",
      "node_0\n",
      "avg time for task1 on node node_0 is 5.045748836115787\n",
      "node_1\n",
      "avg time for task1 on node node_1 is 5.045479247444554\n",
      "node_2\n",
      "avg time for task1 on node node_2 is 5.044965411487379\n",
      "node_3\n",
      "avg time for task1 on node node_3 is 5.046650083441484\n"
     ]
    }
   ],
   "source": [
    "plot_task(task2a_outputs, \"task2a\")\n",
    "plot_task(task2b_outputs, \"task2b\")\n",
    "plot_task(task3_outputs, \"task3\")"
   ]
  },
  {
   "cell_type": "code",
   "execution_count": null,
   "metadata": {},
   "outputs": [],
   "source": []
  }
 ],
 "metadata": {
  "kernelspec": {
   "display_name": "Python 3",
   "language": "python",
   "name": "python3"
  },
  "language_info": {
   "codemirror_mode": {
    "name": "ipython",
    "version": 3
   },
   "file_extension": ".py",
   "mimetype": "text/x-python",
   "name": "python",
   "nbconvert_exporter": "python",
   "pygments_lexer": "ipython3",
   "version": "3.10.12"
  }
 },
 "nbformat": 4,
 "nbformat_minor": 2
}
